{
  "nbformat": 4,
  "nbformat_minor": 0,
  "metadata": {
    "accelerator": "GPU",
    "colab": {
      "name": "Copia de Prediccion de Grafos y attribucion.ipynb",
      "provenance": [],
      "toc_visible": true,
      "include_colab_link": true
    },
    "kernelspec": {
      "display_name": "Python 3",
      "language": "python",
      "name": "python3"
    },
    "language_info": {
      "codemirror_mode": {
        "name": "ipython",
        "version": 3
      },
      "file_extension": ".py",
      "mimetype": "text/x-python",
      "name": "python",
      "nbconvert_exporter": "python",
      "pygments_lexer": "ipython3",
      "version": "3.7.7"
    },
    "toc": {
      "base_numbering": 1,
      "nav_menu": {},
      "number_sections": true,
      "sideBar": true,
      "skip_h1_title": false,
      "title_cell": "Table of Contents",
      "title_sidebar": "Contents",
      "toc_cell": false,
      "toc_position": {},
      "toc_section_display": true,
      "toc_window_display": false
    }
  },
  "cells": [
    {
      "cell_type": "markdown",
      "metadata": {
        "id": "view-in-github",
        "colab_type": "text"
      },
      "source": [
        "<a href=\"https://colab.research.google.com/github/dapivei/riiaa/blob/master/Prediccion_de_Grafos_y_attribucion.ipynb\" target=\"_parent\"><img src=\"https://colab.research.google.com/assets/colab-badge.svg\" alt=\"Open In Colab\"/></a>"
      ]
    },
    {
      "cell_type": "markdown",
      "metadata": {
        "ExecuteTime": {
          "end_time": "2020-04-07T13:00:31.536172Z",
          "start_time": "2020-04-07T13:00:31.532636Z"
        },
        "colab_type": "text",
        "id": "v5lACW4qovun"
      },
      "source": [
        "Download colab_utils and import\n",
        "\n",
        "\n",
        "\n",
        "<a href=\"https://colab.research.google.com/github/beangoben/gnn_workshop_riiaa/blob/master/Prediccion de Nodos con Arxiv MAG.ipynb\" target=\"_parent\"><img src=\"https://colab.research.google.com/assets/colab-badge.svg\" alt=\"Open In Colab\"/></a>\n"
      ]
    },
    {
      "cell_type": "code",
      "metadata": {
        "ExecuteTime": {
          "end_time": "2020-08-26T18:53:34.831956Z",
          "start_time": "2020-08-26T18:53:32.084784Z"
        },
        "colab_type": "code",
        "id": "J5HaH9Yvovuo",
        "scrolled": true,
        "colab": {}
      },
      "source": [
        "!wget https://raw.githubusercontent.com/beangoben/workshop_template/master/colab_utils.py -O colab_utils.py\n",
        "!rm -rf sample_data\n",
        "import colab_utils"
      ],
      "execution_count": null,
      "outputs": []
    },
    {
      "cell_type": "markdown",
      "metadata": {
        "colab_type": "text",
        "id": "dYkzGZr5ovuw"
      },
      "source": [
        "Clone github repo, install stuff"
      ]
    },
    {
      "cell_type": "code",
      "metadata": {
        "colab_type": "code",
        "id": "5DA0QH4Tovux",
        "colab": {}
      },
      "source": [
        "github_repo = 'https://github.com/beangoben/ML_DL_con_moleculas'\n",
        "colab_utils.clone_repo(github_repo)\n",
        "colab_utils.conda_install_from_yaml()\n",
        "colab_utils.pip_install_from_yaml()"
      ],
      "execution_count": null,
      "outputs": []
    },
    {
      "cell_type": "markdown",
      "metadata": {
        "colab_type": "text",
        "id": "T-CPqE95ovu1"
      },
      "source": [
        "# Import modules\n"
      ]
    },
    {
      "cell_type": "code",
      "metadata": {
        "ExecuteTime": {
          "end_time": "2020-08-26T19:18:43.427661Z",
          "start_time": "2020-08-26T19:18:43.407786Z"
        },
        "colab_type": "code",
        "id": "l7xIWY9Qovu8",
        "colab": {}
      },
      "source": [
        "import os\n",
        "from collections import OrderedDict, defaultdict\n",
        "\n",
        "import tqdm.auto as tqdm\n",
        "import colab_utils\n",
        "if colab_utils.IN_COLAB:\n",
        "    colab_utils.add_conda_dir_to_python_path()\n",
        "\n",
        "import numpy as np\n",
        "import scipy as sp\n",
        "import pandas as pd\n",
        "import matplotlib.pyplot as plt\n",
        "import seaborn as sns\n",
        "import altair as alt\n",
        "\n",
        "import sklearn\n",
        "import umap\n",
        "import tensorflow as tf\n",
        "import sonnet as snt\n",
        "import graph_nets as gn\n",
        "\n",
        "import rdkit\n",
        "import rdkit.Chem\n",
        "import rdkit.Chem.AllChem as Chem\n",
        "from rdkit.Chem import AllChem, Draw\n",
        "import rdkit.Chem.rdFingerprintGenerator as rdFP\n",
        "from rdkit.Chem.Draw import IPythonConsole\n",
        "\n",
        "colab_utils.print_module_versions([umap, tf, snt, rdkit])\n",
        "print(f'Tiene GPU? {tf.config.list_physical_devices(\"GPU\")}')\n",
        "colab_utils.matplotlib_settings()"
      ],
      "execution_count": null,
      "outputs": []
    },
    {
      "cell_type": "markdown",
      "metadata": {
        "colab_type": "text",
        "id": "KjDRL90MpxOV"
      },
      "source": [
        "# Data wrangling\n",
        "## Delaney solubility dataset con 🐼s"
      ]
    },
    {
      "cell_type": "code",
      "metadata": {
        "ExecuteTime": {
          "end_time": "2020-08-26T19:18:46.123253Z",
          "start_time": "2020-08-26T19:18:45.901029Z"
        },
        "colab_type": "code",
        "id": "SQ8JKbalphMa",
        "colab": {}
      },
      "source": [
        "df = pd.read_csv('data/delaney-processed.csv')\n",
        "df['mol'] = df['smiles'].apply(Chem.MolFromSmiles)\n",
        "print(df.shape)\n",
        "print(df.columns)\n",
        "df.head()"
      ],
      "execution_count": null,
      "outputs": []
    },
    {
      "cell_type": "markdown",
      "metadata": {
        "colab_type": "text",
        "id": "7LP6W_4BwrFS"
      },
      "source": [
        "## Visualizar moleculas"
      ]
    },
    {
      "cell_type": "code",
      "metadata": {
        "ExecuteTime": {
          "end_time": "2020-08-26T19:18:48.164988Z",
          "start_time": "2020-08-26T19:18:47.998695Z"
        },
        "colab_type": "code",
        "id": "IQk15up9wrR2",
        "colab": {}
      },
      "source": [
        "mols = df['mol'].sample(n=9).tolist()\n",
        "Draw.MolsToGridImage(mols)"
      ],
      "execution_count": null,
      "outputs": []
    },
    {
      "cell_type": "markdown",
      "metadata": {
        "colab_type": "text",
        "id": "FBgnXFTp20kr"
      },
      "source": [
        "## Construir train-test split"
      ]
    },
    {
      "cell_type": "code",
      "metadata": {
        "ExecuteTime": {
          "end_time": "2020-08-26T19:18:49.840048Z",
          "start_time": "2020-08-26T19:18:49.828089Z"
        },
        "colab_type": "code",
        "id": "fR49aasc20ku",
        "colab": {}
      },
      "source": [
        "indices = np.array(df.index)\n",
        "mols = np.array(df['mol'].tolist())\n",
        "train_index, test_index = sklearn.model_selection.train_test_split(indices, test_size=.20)\n",
        "mols_train, mols_test = mols[train_index], mols[test_index]\n",
        "print(len(train_index),len(test_index))"
      ],
      "execution_count": null,
      "outputs": []
    },
    {
      "cell_type": "markdown",
      "metadata": {
        "colab_type": "text",
        "id": "gySWPsQDuFPK"
      },
      "source": [
        "# Propiedad de interes ($y$)"
      ]
    },
    {
      "cell_type": "code",
      "metadata": {
        "ExecuteTime": {
          "end_time": "2020-08-26T19:18:56.892255Z",
          "start_time": "2020-08-26T19:18:56.418422Z"
        },
        "colab_type": "code",
        "id": "w5WTDbMduDnI",
        "colab": {}
      },
      "source": [
        "target = \"measured log solubility in mols per litre\"\n",
        "y_true = df[target].values.reshape(-1,1).astype(np.float32)\n",
        "y_train = y_true[train_index]\n",
        "y_test = y_true[test_index]\n",
        "print(y_train.shape, y_test.shape)\n",
        "\n",
        "sns.distplot(y_true)\n",
        "sns.distplot(y_train)"
      ],
      "execution_count": null,
      "outputs": []
    },
    {
      "cell_type": "markdown",
      "metadata": {
        "id": "EGJXd3W5h0VW",
        "colab_type": "text"
      },
      "source": [
        "### Extra: Preprocesador"
      ]
    },
    {
      "cell_type": "code",
      "metadata": {
        "ExecuteTime": {
          "end_time": "2020-08-26T19:19:11.616707Z",
          "start_time": "2020-08-26T19:19:11.208832Z"
        },
        "id": "8bSXuMBfh0VW",
        "colab_type": "code",
        "colab": {}
      },
      "source": [
        "from sklearn.preprocessing import StandardScaler\n",
        "\n",
        "\n",
        "y_preproc = StandardScaler()\n",
        "y_new = y_preproc.fit_transform(y_true)\n",
        "\n",
        "sns.distplot(y_new)"
      ],
      "execution_count": null,
      "outputs": []
    },
    {
      "cell_type": "markdown",
      "metadata": {
        "id": "_FK9mvJKh0VZ",
        "colab_type": "text"
      },
      "source": [
        "## Metricas (Que tan bien es mi modelo?)"
      ]
    },
    {
      "cell_type": "code",
      "metadata": {
        "ExecuteTime": {
          "end_time": "2020-08-26T19:29:08.673855Z",
          "start_time": "2020-08-26T19:29:08.660781Z"
        },
        "id": "bkJid16Oh0VZ",
        "colab_type": "code",
        "colab": {}
      },
      "source": [
        "from sklearn.metrics import r2_score, mean_absolute_error\n",
        "\n",
        "\n",
        "def evaluate(y_true, y_pred, prefix=''):\n",
        "    stats = OrderedDict([(f'{prefix}MAE', mean_absolute_error(y_test,y_test)), \n",
        "                         (f'{prefix}R2', r2_score(y_test,y_test))\n",
        "                         ])\n",
        "    return stats\n",
        "\n",
        "print(evaluate(y_true, y_true))"
      ],
      "execution_count": null,
      "outputs": []
    },
    {
      "cell_type": "code",
      "metadata": {
        "ExecuteTime": {
          "end_time": "2020-08-26T19:28:22.119836Z",
          "start_time": "2020-08-26T19:28:21.785741Z"
        },
        "id": "qjvkljyVh0Vb",
        "colab_type": "code",
        "colab": {}
      },
      "source": [
        "def plot_preds(y_true, y_pred):\n",
        "    plt.figure(figsize=(12,8))\n",
        "    plt.scatter(y_true, y_pred)\n",
        "    plt.legend()\n",
        "    plt.show()\n",
        "    \n",
        "plot_preds(y_true, y_true)"
      ],
      "execution_count": null,
      "outputs": []
    },
    {
      "cell_type": "markdown",
      "metadata": {
        "colab_type": "text",
        "id": "RF25wTpj20k5"
      },
      "source": [
        "# Inputs (x): Representaciones molecules\n",
        "\n",
        "## Representaciones topologicas (fingerprints)"
      ]
    },
    {
      "cell_type": "code",
      "metadata": {
        "ExecuteTime": {
          "end_time": "2020-08-26T19:19:36.436125Z",
          "start_time": "2020-08-26T19:19:30.768726Z"
        },
        "colab_type": "code",
        "id": "ZGfcsScfuLtw",
        "colab": {}
      },
      "source": [
        "fps =  [Chem.GetMorganFingerprintAsBitVect(m,2,nBits=2048) for m in mols]\n",
        "fps = np.vstack(np.array(fps))\n",
        "fps_train, fps_test = fps[train_index], fps[test_index]\n",
        "print(fps_train.shape, fps_test.shape)"
      ],
      "execution_count": null,
      "outputs": []
    },
    {
      "cell_type": "markdown",
      "metadata": {
        "id": "GB6Z0IhRh0Vh",
        "colab_type": "text"
      },
      "source": [
        "## Similitud estructural"
      ]
    },
    {
      "cell_type": "code",
      "metadata": {
        "ExecuteTime": {
          "end_time": "2020-08-26T19:39:30.171750Z",
          "start_time": "2020-08-26T19:39:30.166458Z"
        },
        "id": "sCktXZorh0Vh",
        "colab_type": "code",
        "colab": {}
      },
      "source": [
        "import scipy.spatial.distance as spdist\n",
        "\n",
        "dist01 = spdist.jaccard(fps[0],fps[1])\n",
        "\n"
      ],
      "execution_count": null,
      "outputs": []
    },
    {
      "cell_type": "markdown",
      "metadata": {
        "id": "2czAui06h0Vk",
        "colab_type": "text"
      },
      "source": [
        "## Vecinos estructurales"
      ]
    },
    {
      "cell_type": "code",
      "metadata": {
        "id": "LRmgAN8Dh0Vk",
        "colab_type": "code",
        "colab": {}
      },
      "source": [
        ""
      ],
      "execution_count": null,
      "outputs": []
    },
    {
      "cell_type": "markdown",
      "metadata": {
        "id": "9NYJtVVsh0Vo",
        "colab_type": "text"
      },
      "source": [
        "## Representaciones quimo-informaticas (mordred)"
      ]
    },
    {
      "cell_type": "code",
      "metadata": {
        "ExecuteTime": {
          "end_time": "2020-08-26T19:27:34.441893Z",
          "start_time": "2020-08-26T19:26:37.954893Z"
        },
        "id": "iZl8Ll04h0Vo",
        "colab_type": "code",
        "colab": {}
      },
      "source": [
        "from mordred import Calculator, descriptors\n",
        "\n",
        "calc = Calculator(descriptors, ignore_3D=True)\n",
        "cheminfo = np.array([calc(m) for m in tqdm.tqdm(mols)])\n",
        "cheminfo_train,  cheminfo_test = cheminfo[train_index], cheminfo[test_index]\n",
        "print(cheminfo_train.shape, cheminfo_test.shape)"
      ],
      "execution_count": null,
      "outputs": []
    },
    {
      "cell_type": "markdown",
      "metadata": {
        "id": "ShV3Xivuh0Vq",
        "colab_type": "text"
      },
      "source": [
        "## Comparativa geometrica de las representaciones"
      ]
    },
    {
      "cell_type": "code",
      "metadata": {
        "ExecuteTime": {
          "end_time": "2020-08-26T19:40:58.486630Z",
          "start_time": "2020-08-26T19:40:50.210529Z"
        },
        "id": "pYpEk_p_h0Vr",
        "colab_type": "code",
        "colab": {}
      },
      "source": [
        "from sklearn.pipeline import Pipeline\n",
        "from sklearn.decomposition import PCA\n",
        "from sklearn.preprocessing import StandardScaler\n",
        "\n",
        "pca_pipe = Pipeline([('scaler', StandardScaler()),\n",
        "                                  ('dim_reduce', PCA(2))])\n",
        "\n",
        "umap_pipe = Pipeline([('scaler', StandardScaler()),\n",
        "                                  ('dim_reduce', umap.UMAP())])\n",
        "\n",
        "\n",
        "x_umap = umap_pipe.fit_transform(fps)\n",
        "x_pca = pca_pipe.fit_transform(fps)\n",
        "\n",
        "print(x_umap.shape, x_pca.shape)"
      ],
      "execution_count": null,
      "outputs": []
    },
    {
      "cell_type": "code",
      "metadata": {
        "ExecuteTime": {
          "end_time": "2020-08-26T19:41:00.123214Z",
          "start_time": "2020-08-26T19:40:59.727615Z"
        },
        "id": "ee1gCfomh0Vt",
        "colab_type": "code",
        "colab": {}
      },
      "source": [
        "plt.scatter(x_umap[:,0], x_umap[:, 1],\n",
        "            c=y_true,\n",
        "            cmap='viridis',\n",
        "            s=10, alpha=0.5)\n",
        "plt.show()"
      ],
      "execution_count": null,
      "outputs": []
    },
    {
      "cell_type": "code",
      "metadata": {
        "ExecuteTime": {
          "end_time": "2020-08-26T19:42:31.495115Z",
          "start_time": "2020-08-26T19:42:31.466473Z"
        },
        "id": "OVuzwNN2h0Vv",
        "colab_type": "code",
        "colab": {}
      },
      "source": [
        "vis_df = pd.DataFrame()\n",
        "vis_df['UMAP1'] = x_umap[:, 0]\n",
        "vis_df['UMAP2'] = x_umap[:, 1]\n",
        "vis_df['PC1'] = x_pca[:, 0]\n",
        "vis_df['PC2'] = x_pca[:, 1]\n",
        "vis_df['label'] = y_true.ravel()\n",
        "vis_df['index'] = np.arange(len(df))\n",
        "vis_df['name'] = df['Compound ID'].tolist()\n",
        "vis_df"
      ],
      "execution_count": null,
      "outputs": []
    },
    {
      "cell_type": "code",
      "metadata": {
        "ExecuteTime": {
          "end_time": "2020-08-26T19:44:50.009092Z",
          "start_time": "2020-08-26T19:44:49.865300Z"
        },
        "id": "n5hLNiJXh0Vx",
        "colab_type": "code",
        "colab": {}
      },
      "source": [
        "alt.Chart(vis_df).mark_circle(size=10).encode(\n",
        "    x='UMAP1:Q',\n",
        "    y='UMAP2:Q',\n",
        "    color=alt.Color('label:Q', scale=alt.Scale(scheme='viridis')),\n",
        "    tooltip=['label', 'index', 'name']\n",
        ").interactive()"
      ],
      "execution_count": null,
      "outputs": []
    },
    {
      "cell_type": "code",
      "metadata": {
        "ExecuteTime": {
          "end_time": "2020-08-26T19:44:30.159506Z",
          "start_time": "2020-08-26T19:44:29.943029Z"
        },
        "id": "jS-BKkpLh0Vy",
        "colab_type": "code",
        "colab": {}
      },
      "source": [
        "brush = alt.selection(type='interval', resolve='global')\n",
        "\n",
        "scatter1 = alt.Chart(vis_df).mark_circle(size=4).encode(\n",
        "    x='PC1:Q',\n",
        "    y='PC2:Q',\n",
        "    color = alt.condition(brush, alt.Color('label:Q', scale=alt.Scale(scheme='viridis')), alt.value('lightgray')),\n",
        "    tooltip=['label', 'index', 'name']\n",
        ").add_selection(brush)\n",
        "\n",
        "scatter2 = alt.Chart(vis_df).mark_circle(size=4).encode(\n",
        "    x='UMAP1:Q',\n",
        "    y='UMAP2:Q',\n",
        "    color = alt.condition(brush, alt.Color('label:Q'), alt.value('lightgray')),\n",
        "    tooltip=['label', 'index', 'name']\n",
        ").add_selection(brush)\n",
        "\n",
        "scatter1 | scatter2"
      ],
      "execution_count": null,
      "outputs": []
    },
    {
      "cell_type": "markdown",
      "metadata": {
        "colab_type": "text",
        "id": "ds14PRsSw77n"
      },
      "source": [
        "## Grafos moleculares"
      ]
    },
    {
      "cell_type": "code",
      "metadata": {
        "ExecuteTime": {
          "end_time": "2020-08-26T19:31:23.597277Z",
          "start_time": "2020-08-26T19:31:23.573034Z"
        },
        "colab_type": "code",
        "id": "siKwqtCzwOfV",
        "colab": {}
      },
      "source": [
        "possible_atom_list = ['S', 'Si', 'F', 'O',\n",
        "                      'C', 'I', 'P', 'Cl', 'Br', 'N', 'Unknown']\n",
        "reference_lists = [possible_atom_list]\n",
        "\n",
        "def one_of_k_encoding(x, allowable_set):\n",
        "    if x not in allowable_set:\n",
        "        raise Exception(\"input {0} not in allowable set{1}:\".format(\n",
        "            x, allowable_set))\n",
        "    return list(map(lambda s: x == s, allowable_set))\n",
        "\n",
        "def one_of_k_encoding_unk(x, allowable_set):\n",
        "    \"\"\"Maps inputs not in the allowable set to the last element.\"\"\"\n",
        "    if x not in allowable_set:\n",
        "        x = allowable_set[-1]\n",
        "    return list(map(lambda s: x == s, allowable_set))\n",
        "\n",
        "\n",
        "def safe_index(l, e):\n",
        "    \"\"\"Gets the index of e in l, providing an index of len(l) if not found\"\"\"\n",
        "    try:\n",
        "        return l.index(e)\n",
        "    except:\n",
        "        return len(l)\n",
        "\n",
        "\n",
        "def get_feature_list(atom):\n",
        "    features[safe_index(possible_atom_list, atom.GetSymbol())]\n",
        "    return features\n",
        "\n",
        "def atom_features(atom):\n",
        "    results = one_of_k_encoding_unk(atom.GetSymbol(), possible_atom_list)\n",
        "    return np.array(results).astype(np.float32)\n",
        "\n",
        "def bond_features(bond):\n",
        "    bt = bond.GetBondType()\n",
        "    bond_feats = [\n",
        "        bt == Chem.rdchem.BondType.SINGLE, bt == Chem.rdchem.BondType.DOUBLE,\n",
        "        bt == Chem.rdchem.BondType.TRIPLE, bt == Chem.rdchem.BondType.AROMATIC]\n",
        "    return np.array(bond_feats).astype(np.float32)\n",
        "\n",
        "def get_bond_pair(mol):\n",
        "    bonds = mol.GetBonds()\n",
        "    res = [[], []]\n",
        "    n_atoms = mol.GetNumAtoms()\n",
        "    adj = np.zeros((n_atoms,n_atoms))\n",
        "    for bond in bonds:\n",
        "        res[0] += [bond.GetBeginAtomIdx()]\n",
        "        res[1] += [bond.GetEndAtomIdx()]\n",
        "        adj[bond.GetBeginAtomIdx(),bond.GetEndAtomIdx()]=1\n",
        "        adj[bond.GetEndAtomIdx(),bond.GetBeginAtomIdx()]=1\n",
        "\n",
        "    return res, adj\n",
        "\n",
        "\n",
        "def mol2graph_data(mol):\n",
        "    atoms = mol.GetAtoms()\n",
        "    bonds = mol.GetBonds()\n",
        "    node_f = [atom_features(atom) for atom in atoms]\n",
        "    edge_index, adj = get_bond_pair(mol)\n",
        "    edge_f = [bond_features(bond) for bond in bonds]\n",
        "    return np.stack(node_f),np.stack(edge_index).T,np.stack(edge_f), adj\n",
        "\n",
        "\n",
        "def n_atom_features():\n",
        "    atom = Chem.MolFromSmiles('C').GetAtomWithIdx(0)\n",
        "    return len(atom_features(atom))\n",
        "\n",
        "\n",
        "def n_bond_features():\n",
        "    bond = Chem.MolFromSmiles('CC').GetBondWithIdx(0)\n",
        "    return len(bond_features(bond))"
      ],
      "execution_count": null,
      "outputs": []
    },
    {
      "cell_type": "code",
      "metadata": {
        "ExecuteTime": {
          "end_time": "2020-08-26T19:31:29.724130Z",
          "start_time": "2020-08-26T19:31:25.283505Z"
        },
        "colab_type": "code",
        "id": "jA5o8iZzxQji",
        "colab": {}
      },
      "source": [
        "def mol_to_datatdict(mol):\n",
        "  mol = df['mol'].iloc[0]\n",
        "  nodes = np.array([atom_features(atom) for atom in mol.GetAtoms()])\n",
        "  edges = []\n",
        "  for bond in mol.GetBonds():\n",
        "    edges.append(bond_features(bond))\n",
        "    edges.append(bond_features(bond))\n",
        "  edges = np.array(edges)\n",
        "  senders = []\n",
        "  receivers = []\n",
        "  for bond in mol.GetBonds():\n",
        "    senders.extend([bond.GetBeginAtomIdx(), bond.GetEndAtomIdx()])\n",
        "    receivers.extend([bond.GetEndAtomIdx(),bond.GetBeginAtomIdx()])\n",
        "\n",
        "  data_dict = {'nodes':nodes.astype(np.float32), 'edges':edges.astype(np.float32),\n",
        "              'globals':np.array([0]).astype(np.float32),\n",
        "              'senders':np.array(senders),\n",
        "              'receivers':np.array(receivers)}\n",
        "  return data_dict\n",
        "\n",
        "data_dict_train = [mol_to_datatdict(mol) for mol in mols_train]\n",
        "data_dict_test = [mol_to_datatdict(mol) for mol in mols_test]\n",
        "\n",
        "x_train = gn.utils_tf.data_dicts_to_graphs_tuple(data_dict_train)\n",
        "x_test = gn.utils_tf.data_dicts_to_graphs_tuple(data_dict_test)\n",
        "x_test"
      ],
      "execution_count": null,
      "outputs": []
    },
    {
      "cell_type": "markdown",
      "metadata": {
        "id": "4EmAbB-Qh0V5",
        "colab_type": "text"
      },
      "source": [
        "# Construir modelos\n",
        "\n",
        "## Guardar resultados para la comparativa"
      ]
    },
    {
      "cell_type": "code",
      "metadata": {
        "ExecuteTime": {
          "end_time": "2020-08-26T19:53:44.729698Z",
          "start_time": "2020-08-26T19:53:44.710406Z"
        },
        "id": "-6wwnO7Nh0V5",
        "colab_type": "code",
        "colab": {},
        "outputId": "ac788d32-6a2b-4492-f6c9-017a7cd81474"
      },
      "source": [
        "results = []\n",
        "\n",
        "def generar_resultado(y_true, y_pred, method, feature):\n",
        "    result = OrderedDict()\n",
        "    result['metodo'] = method\n",
        "    result['feature'] = feature\n",
        "    result.update(evaluate(y_true, y_pred))\n",
        "    return result\n",
        "    \n",
        "pd.DataFrame([generar_resultado(y_true, y_true, 'exp', 'datos')])"
      ],
      "execution_count": null,
      "outputs": [
        {
          "output_type": "execute_result",
          "data": {
            "text/html": [
              "<div>\n",
              "<style scoped>\n",
              "    .dataframe tbody tr th:only-of-type {\n",
              "        vertical-align: middle;\n",
              "    }\n",
              "\n",
              "    .dataframe tbody tr th {\n",
              "        vertical-align: top;\n",
              "    }\n",
              "\n",
              "    .dataframe thead th {\n",
              "        text-align: right;\n",
              "    }\n",
              "</style>\n",
              "<table border=\"1\" class=\"dataframe\">\n",
              "  <thead>\n",
              "    <tr style=\"text-align: right;\">\n",
              "      <th></th>\n",
              "      <th>metodo</th>\n",
              "      <th>feature</th>\n",
              "      <th>MAE</th>\n",
              "      <th>R2</th>\n",
              "    </tr>\n",
              "  </thead>\n",
              "  <tbody>\n",
              "    <tr>\n",
              "      <th>0</th>\n",
              "      <td>exp</td>\n",
              "      <td>datos</td>\n",
              "      <td>0.0</td>\n",
              "      <td>1.0</td>\n",
              "    </tr>\n",
              "  </tbody>\n",
              "</table>\n",
              "</div>"
            ],
            "text/plain": [
              "  metodo feature  MAE   R2\n",
              "0    exp   datos  0.0  1.0"
            ]
          },
          "metadata": {
            "tags": []
          },
          "execution_count": 63
        }
      ]
    },
    {
      "cell_type": "markdown",
      "metadata": {
        "id": "9LTBJ2BYh0V9",
        "colab_type": "text"
      },
      "source": [
        "## El zologico de ML con scikit-learn\n",
        "\n",
        "### Modelo lineal\n",
        "\n",
        "$$\n",
        "y = W \\cdot x + b\n",
        "$$"
      ]
    },
    {
      "cell_type": "code",
      "metadata": {
        "id": "OataWpW0h0V9",
        "colab_type": "code",
        "colab": {}
      },
      "source": [
        "from sklearn.linear_model import LinearRegression\n",
        "\n",
        "model = LinearRegression()\n",
        "model.fit(x_train,y_train)\n",
        "y_pred = model.predict(x_train)"
      ],
      "execution_count": null,
      "outputs": []
    },
    {
      "cell_type": "markdown",
      "metadata": {
        "id": "thckSFlFh0V_",
        "colab_type": "text"
      },
      "source": [
        "## Random forest/ Gradient Boosted Trees"
      ]
    },
    {
      "cell_type": "code",
      "metadata": {
        "ExecuteTime": {
          "end_time": "2020-08-26T19:49:49.136458Z",
          "start_time": "2020-08-26T19:49:48.704537Z"
        },
        "id": "Wm7oP59Lh0V_",
        "colab_type": "code",
        "colab": {}
      },
      "source": [
        "from sklearn.ensemble import GradientBoostingRegressor\n",
        "model = GradientBoostingRegressor()\n"
      ],
      "execution_count": null,
      "outputs": []
    },
    {
      "cell_type": "markdown",
      "metadata": {
        "id": "b7y3UOvVh0WB",
        "colab_type": "text"
      },
      "source": [
        "## Proceso Gaussiano"
      ]
    },
    {
      "cell_type": "code",
      "metadata": {
        "id": "JoiOzD4Zh0WC",
        "colab_type": "code",
        "colab": {}
      },
      "source": [
        ""
      ],
      "execution_count": null,
      "outputs": []
    },
    {
      "cell_type": "markdown",
      "metadata": {
        "id": "WKk0kRP3h0WD",
        "colab_type": "text"
      },
      "source": [
        "## Una red neuronal con tf y sonnet\n",
        "\n",
        "Utilidades para modelos"
      ]
    },
    {
      "cell_type": "code",
      "metadata": {
        "id": "M8UqddLkh0WE",
        "colab_type": "code",
        "colab": {}
      },
      "source": [
        "def get_num_parameters(model: snt.Module, trainable: bool = True) -> int:\n",
        "  \"\"\"Numero de parametros.\"\"\"\n",
        "  variables = model.trainable_variables if trainable else model.variables\n",
        "  return int(np.sum([np.prod(v.shape) for v in variables]))\n",
        "\n",
        "\n",
        "def print_model(model: snt.Module):\n",
        "  \"\"\"Sumario de un modelo.\"\"\"\n",
        "  print(f'{model.__class__.__name__} : {model.name}\\n')\n",
        "  print(snt.format_variables(model.variables))\n",
        "  n_params = get_num_parameters(model, False)\n",
        "  trainable_params = get_num_parameters(model, True)\n",
        "  print(f'\\nParams: {trainable_params} trainable out of {n_params}')"
      ],
      "execution_count": null,
      "outputs": []
    },
    {
      "cell_type": "code",
      "metadata": {
        "id": "DyPhBjoOh0WG",
        "colab_type": "code",
        "colab": {}
      },
      "source": [
        "model = snt.nets.MLP([10,10])\n",
        "y_pred = model(x_train)\n",
        "print_model(bloque)"
      ],
      "execution_count": null,
      "outputs": []
    },
    {
      "cell_type": "markdown",
      "metadata": {
        "id": "HMHiZoUBh0WJ",
        "colab_type": "text"
      },
      "source": [
        "### Definir variables de optimizacion"
      ]
    },
    {
      "cell_type": "code",
      "metadata": {
        "id": "bzh6NTCNh0WJ",
        "colab_type": "code",
        "colab": {}
      },
      "source": [
        "NUM_ITER = 100\n",
        "optimizer = tf.optimizers.Adam(3e-4)\n",
        "metric = tf.keras.metrics.MeanAbsoluteError()\n",
        "loss_fn = tf.keras.losses.MeanSquaredError()"
      ],
      "execution_count": null,
      "outputs": []
    },
    {
      "cell_type": "code",
      "metadata": {
        "ExecuteTime": {
          "end_time": "2020-08-26T19:56:14.718947Z",
          "start_time": "2020-08-26T19:56:14.697473Z"
        },
        "id": "7tFC_ZpJh0WL",
        "colab_type": "code",
        "colab": {},
        "outputId": "6b0bf6d7-8091-473b-f2d7-b04412ed8a15"
      },
      "source": [
        "pbar = tqdm.tqdm(range(NUM_ITER))\n",
        "stats = []\n",
        "\n",
        "for i in pbar:\n",
        "    with tf.GradientTape() as tape:\n",
        "      y_pred = model(x_train)\n",
        "      loss = loss_fn(y_train, y_pred)\n",
        "    grads = tape.gradient(loss, model.trainable_variables)\n",
        "    optimizer.apply_gradients(zip(grads, model.trainable_variables))\n",
        "    # Train statistics.\n",
        "    y_pred =  model(x_train)\n",
        "    stat = evaluate(y_train, y_pred , 'train')\n",
        "    # Test statistics.\n",
        "    y_pred =  model(x_test)\n",
        "    stat.update(evaluate(y_test, y_pred, 'test'))\n",
        "    stats.append(stat)\n",
        "    # Update progress bar.\n",
        "    pbar.set_postfix(stats[-1])\n",
        "train_df = pd.DataFrame(stats)\n",
        "train_df"
      ],
      "execution_count": null,
      "outputs": [
        {
          "output_type": "error",
          "ename": "NameError",
          "evalue": "name 'NUM_ITER' is not defined",
          "traceback": [
            "\u001b[0;31m---------------------------------------------------------------------------\u001b[0m",
            "\u001b[0;31mNameError\u001b[0m                                 Traceback (most recent call last)",
            "\u001b[0;32m<ipython-input-64-0c60d0518e10>\u001b[0m in \u001b[0;36m<module>\u001b[0;34m\u001b[0m\n\u001b[0;32m----> 1\u001b[0;31m \u001b[0mpbar\u001b[0m \u001b[0;34m=\u001b[0m \u001b[0mtqdm\u001b[0m\u001b[0;34m.\u001b[0m\u001b[0mtqdm\u001b[0m\u001b[0;34m(\u001b[0m\u001b[0mrange\u001b[0m\u001b[0;34m(\u001b[0m\u001b[0mNUM_ITER\u001b[0m\u001b[0;34m)\u001b[0m\u001b[0;34m)\u001b[0m\u001b[0;34m\u001b[0m\u001b[0;34m\u001b[0m\u001b[0m\n\u001b[0m\u001b[1;32m      2\u001b[0m \u001b[0mstats\u001b[0m \u001b[0;34m=\u001b[0m \u001b[0;34m[\u001b[0m\u001b[0;34m]\u001b[0m\u001b[0;34m\u001b[0m\u001b[0;34m\u001b[0m\u001b[0m\n\u001b[1;32m      3\u001b[0m \u001b[0;34m\u001b[0m\u001b[0m\n\u001b[1;32m      4\u001b[0m \u001b[0;32mfor\u001b[0m \u001b[0mi\u001b[0m \u001b[0;32min\u001b[0m \u001b[0mpbar\u001b[0m\u001b[0;34m:\u001b[0m\u001b[0;34m\u001b[0m\u001b[0;34m\u001b[0m\u001b[0m\n\u001b[1;32m      5\u001b[0m     \u001b[0;32mwith\u001b[0m \u001b[0mtf\u001b[0m\u001b[0;34m.\u001b[0m\u001b[0mGradientTape\u001b[0m\u001b[0;34m(\u001b[0m\u001b[0;34m)\u001b[0m \u001b[0;32mas\u001b[0m \u001b[0mtape\u001b[0m\u001b[0;34m:\u001b[0m\u001b[0;34m\u001b[0m\u001b[0;34m\u001b[0m\u001b[0m\n",
            "\u001b[0;31mNameError\u001b[0m: name 'NUM_ITER' is not defined"
          ]
        }
      ]
    },
    {
      "cell_type": "code",
      "metadata": {
        "id": "1cDGy2CCh0WN",
        "colab_type": "code",
        "colab": {}
      },
      "source": [
        "for key in ['train_loss','test_loss']:\n",
        "    plt.plot(train_df[key])\n",
        "plt.yscale('log')\n",
        "plt.legend()\n",
        "plt.show()\n",
        "\n",
        "for key in ['train_MAE','test_MAE']:\n",
        "    plt.plot(train_df[key])\n",
        "plt.show()"
      ],
      "execution_count": null,
      "outputs": []
    },
    {
      "cell_type": "markdown",
      "metadata": {
        "id": "KYDU5Nbnh0WP",
        "colab_type": "text"
      },
      "source": [
        "## Conseguir embeddings"
      ]
    },
    {
      "cell_type": "code",
      "metadata": {
        "id": "6oPpRzr4h0WQ",
        "colab_type": "code",
        "colab": {}
      },
      "source": [
        ""
      ],
      "execution_count": null,
      "outputs": []
    },
    {
      "cell_type": "markdown",
      "metadata": {
        "ExecuteTime": {
          "end_time": "2020-08-25T12:01:23.611610Z",
          "start_time": "2020-08-25T12:01:23.604859Z"
        },
        "colab_type": "text",
        "id": "niTCJpyi20nY"
      },
      "source": [
        "## GNN: NN en grafos"
      ]
    },
    {
      "cell_type": "markdown",
      "metadata": {
        "colab_type": "text",
        "id": "jwJpKl0_20nq"
      },
      "source": [
        "### Bloque de transformacion"
      ]
    },
    {
      "cell_type": "code",
      "metadata": {
        "ExecuteTime": {
          "end_time": "2020-08-25T13:20:20.483924Z",
          "start_time": "2020-08-25T13:20:20.410339Z"
        },
        "colab_type": "code",
        "id": "RL3ioPM120ns",
        "colab": {}
      },
      "source": [
        "def make_mlp_model(latent_size=32, n_layers=2, add_head=0):\n",
        "    \"\"\"Crea un MLP luego pasando por un LayerNorm y opcionalmente una capa lineal.\"\"\"\n",
        "    layers = [\n",
        "        snt.nets.MLP([latent_size] * n_layers, activate_final=True),\n",
        "        snt.LayerNorm(axis=-1, create_offset=True, create_scale=True)]\n",
        "    if add_head > 0:\n",
        "        layers.append(snt.Linear(add_head))\n",
        "    return snt.Sequential(layers)\n",
        "    \n",
        "bloque = make_mlp_model(32, 2, 0)\n",
        "bloque(x_train.nodes)\n",
        "print_model(bloque)"
      ],
      "execution_count": null,
      "outputs": []
    },
    {
      "cell_type": "markdown",
      "metadata": {
        "colab_type": "text",
        "id": "-ZlTXSMw20o-"
      },
      "source": [
        "### Graphnets"
      ]
    },
    {
      "cell_type": "code",
      "metadata": {
        "ExecuteTime": {
          "end_time": "2020-08-25T13:20:58.348518Z",
          "start_time": "2020-08-25T13:20:58.206918Z"
        },
        "colab_type": "code",
        "id": "YzBP2BJ220o_",
        "scrolled": true,
        "colab": {}
      },
      "source": [
        "cabeza = gn.modules.GraphIndependent(node_model_fn=lambda: snt.Linear(1))\n",
        "\n",
        "gnn_layers = [gn.modules.GraphNetwork(\n",
        "    edge_model_fn=lambda: make_mlp_model(32, 2),\n",
        "    node_model_fn=lambda: make_mlp_model(32, 2),\n",
        "    global_model_fn=lambda: make_mlp_model(32, 2)) for i in range(3)]\n",
        "\n",
        "gnn = snt.Sequential( gnn_layers + [cabeza])\n",
        "out = gnn(x_train)\n",
        "print_model(gnn)"
      ],
      "execution_count": null,
      "outputs": []
    },
    {
      "cell_type": "code",
      "metadata": {
        "ExecuteTime": {
          "end_time": "2020-08-25T13:20:59.102450Z",
          "start_time": "2020-08-25T13:20:59.069612Z"
        },
        "colab_type": "code",
        "id": "vE7TzFEo20pH",
        "colab": {}
      },
      "source": [
        "NUM_ITER = 100\n",
        "optimizer = tf.optimizers.Adam(3e-4)\n",
        "metric = tf.keras.metrics.MeanAbsoluteError()\n",
        "loss_fn = tf.keras.losses.MeanSquaredError()\n",
        "\n",
        "\n"
      ],
      "execution_count": null,
      "outputs": []
    },
    {
      "cell_type": "code",
      "metadata": {
        "ExecuteTime": {
          "end_time": "2020-08-25T13:23:38.511258Z",
          "start_time": "2020-08-25T13:21:00.537546Z"
        },
        "colab_type": "code",
        "id": "ApqZ9BCQ20pY",
        "scrolled": true,
        "colab": {}
      },
      "source": [
        "pbar = tqdm.tqdm(range(NUM_ITER))\n",
        "stats = []\n",
        "\n",
        "for i in pbar:\n",
        "    with tf.GradientTape() as tape:\n",
        "      y_pred = model(x_train)\n",
        "      loss = loss_fn(y_train, y_pred)\n",
        "    grads = tape.gradient(loss, gnn.trainable_variables)\n",
        "    optimizer.apply_gradients((grad, var) \n",
        "    for (grad, var) in zip(grads, gnn.trainable_variables) \n",
        "    if grad is not None)\n",
        "    # Train statistics.\n",
        "    y_pred =  gnn(x_train).globals\n",
        "    stat = evaluate(y_train, y_pred , 'train')\n",
        "    # Test statistics.\n",
        "    y_pred =  gnn(x_test).globals\n",
        "    stat.update(evaluate(y_test, y_pred, 'test'))\n",
        "    stats.append(stat)\n",
        "    # Update progress bar.\n",
        "    pbar.set_postfix(stats[-1])\n",
        "train_df = pd.DataFrame(stats)\n",
        "train_df"
      ],
      "execution_count": null,
      "outputs": []
    },
    {
      "cell_type": "code",
      "metadata": {
        "ExecuteTime": {
          "end_time": "2020-08-25T13:25:16.159004Z",
          "start_time": "2020-08-25T13:25:15.541938Z"
        },
        "colab_type": "code",
        "id": "YT2yMZ7r20pi",
        "colab": {}
      },
      "source": [
        "for key in ['train_loss','test_loss']:\n",
        "    plt.plot(train_df[key])\n",
        "plt.yscale('log')\n",
        "plt.legend()\n",
        "plt.show()\n",
        "\n",
        "for key in ['train_MAE','test_MAE']:\n",
        "    plt.plot(train_df[key])\n",
        "plt.show()"
      ],
      "execution_count": null,
      "outputs": []
    }
  ]
}